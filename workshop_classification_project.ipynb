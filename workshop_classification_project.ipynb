{
  "nbformat": 4,
  "nbformat_minor": 0,
  "metadata": {
    "kernelspec": {
      "display_name": "Python 3",
      "language": "python",
      "name": "python3"
    },
    "language_info": {
      "codemirror_mode": {
        "name": "ipython",
        "version": 3
      },
      "file_extension": ".py",
      "mimetype": "text/x-python",
      "name": "python",
      "nbconvert_exporter": "python",
      "pygments_lexer": "ipython3",
      "version": "3.7.4"
    },
    "toc": {
      "base_numbering": 1,
      "nav_menu": {},
      "number_sections": false,
      "sideBar": true,
      "skip_h1_title": true,
      "title_cell": "Table of Contents",
      "title_sidebar": "Contents",
      "toc_cell": false,
      "toc_position": {},
      "toc_section_display": true,
      "toc_window_display": true
    },
    "colab": {
      "name": "workshop_classification_project.ipynb",
      "provenance": [],
      "collapsed_sections": [],
      "include_colab_link": true
    }
  },
  "cells": [
    {
      "cell_type": "markdown",
      "metadata": {
        "id": "view-in-github",
        "colab_type": "text"
      },
      "source": [
        "<a href=\"https://colab.research.google.com/github/faithkane3/workshops/blob/main/workshop_classification_project.ipynb\" target=\"_parent\"><img src=\"https://colab.research.google.com/assets/colab-badge.svg\" alt=\"Open In Colab\"/></a>"
      ]
    },
    {
      "cell_type": "markdown",
      "metadata": {
        "id": "d4pFnFoibLDU"
      },
      "source": [
        "# Welcome to Machine Learning 101 - Classification\n",
        "\n",
        "This tutorial is a basic intro to:\n",
        "- acquiring data using the pandas `read_csv()` function.\n",
        "- preparing data for modeling.\n",
        "- exploring and analyzing our data.\n",
        "- modeling and evaluating our data.\n",
        "\n",
        "___\n",
        "\n",
        "## Getting Started\n",
        "1. Create your own notebook to work in.\n",
        "2. Click the 'File' tab in the upper-left part of the menu bar and click 'Save a copy in Drive' to create your own copy of my Google Colab notebook that you can edit and save.\n",
        "3. As you complete exercises, be sure to Save your work by either clicking on the 'File' tab in the menu bar and 'Save' or using `cmd+S`.\n",
        "\n",
        "### Orientation:\n",
        "- This notebook is composed of cells. Each cell will contain either text or Python code.\n",
        "- To run the Python code cells, click the \"play\" button next to the cell or click your cursor inside the cell and do \"Shift + Enter\" on your keyboard. \n",
        "- Run the code cells in order from top to bottom, because order matters in programming and code.\n",
        "\n",
        "### Troubleshooting\n",
        "- If the notebook appears to not be working correctly, then restart this environment by going up to **Runtime** then select **Restart Runtime**. \n",
        "- If the notebook is running correctly, but you need a fresh copy of this original notebook, go [here](https://colab.research.google.com/drive1MoxkpATZRFLS3inZ38Wv0AxrBpQW5A8x?usp=sharing) and repeat the steps above in 'Getting Started'.\n",
        "- Save frequently (`cmd+S`) and save often, so you have access to all of your exercise solutions!"
      ]
    },
    {
      "cell_type": "markdown",
      "metadata": {
        "id": "La-ZKXetK0Vt"
      },
      "source": [
        "___"
      ]
    },
    {
      "cell_type": "markdown",
      "metadata": {
        "id": "BItMfWWLK0D_"
      },
      "source": [
        "# Objectives\n",
        "\n",
        "- We are going to use the Titanic datset and a decision tree classifier to predict whether a passenger **survived**, **the dependent or target variable**, the Titanic crash using other **independent variables** in our dataset like **age**, **class**, and **sex**.\n",
        "- We will practice our pandas skills as we work through the Data Science pipeline."
      ]
    },
    {
      "cell_type": "markdown",
      "metadata": {
        "id": "y8u4e6-Y8eh_"
      },
      "source": [
        "# Classification"
      ]
    },
    {
      "cell_type": "markdown",
      "metadata": {
        "id": "wJLrCbWr8eiA"
      },
      "source": [
        "### <font color=red>What is Classification?</font>\n",
        "\n",
        "**Classification is a Supervised Machine Learning technique.** Like Regression, Classification also uses labeled data from a training dataset to learn rules for making future predictions on unseen data. However, **Classification is used to predict the category membership of the target value (label).** Examples of Classification algorithms are logistic regression, decision tree, and random forest. \n",
        "\n",
        "**Simply put, Regression predicts a continuous variable while classification predicts a categorical variable.**\n",
        "\n",
        "![image.png](data:image/png;base64,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)"
      ]
    },
    {
      "cell_type": "markdown",
      "metadata": {
        "id": "aIKeNuMX8eiA"
      },
      "source": [
        "___"
      ]
    },
    {
      "cell_type": "markdown",
      "metadata": {
        "id": "DKRjGj_m8eiB"
      },
      "source": [
        "### <font color=orange>So What Are the Types of Classification?</font>\n",
        "\n",
        "**Types of Classification**\n",
        "\n",
        ">**Binary Classification -** This type of classification uses a decision rule to predict an observation to be a member of one of only two groups: {churn or not churn}, {pass or fail}, {male or female), {smoker or non-smoker}, {healthy or sick}.\n",
        "\n",
        ">**Multiclass Classification -** This type of classification uses a decision rule to predict an observation to be a member of one of three or more possible groups or categories: {A, B, or C}, {hot, warm, or cold}, or {Pythonm Java, C++, Go, or C}.\n",
        "\n",
        "![Binary v Multi-class Image](data:image/jpeg;base64,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)\n",
        "\n",
        "**Uses for Classification**\n",
        "\n",
        "- Medical Diagnosis\n",
        "\n",
        "\n",
        "- Spam Detection\n",
        "\n",
        "\n",
        "- Credit Approval\n",
        "\n",
        "\n",
        "- Targeted Marketing"
      ]
    },
    {
      "cell_type": "markdown",
      "metadata": {
        "id": "naZB1Lse8eiB"
      },
      "source": [
        "___"
      ]
    },
    {
      "cell_type": "markdown",
      "metadata": {
        "id": "wwunXopzOOYH"
      },
      "source": [
        "## How Does a Decision Tree Classifier Work?\n",
        "\n",
        "We will train our model on labeled data, our Titanic dataset for example, to find decision boundaries that it will use as decision rules on unseen data in the future. \n",
        "\n",
        "\n",
        "![Decision Tree Image](data:image/png;base64,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)"
      ]
    },
    {
      "cell_type": "markdown",
      "metadata": {
        "id": "wS3fqp1SQwFp"
      },
      "source": [
        "### Visual Example\n",
        "\n",
        "![Job Offer Decision Tree Image](https://miro.medium.com/max/690/0*MxUzo0t_m7MfQBWw.png)"
      ]
    },
    {
      "cell_type": "markdown",
      "metadata": {
        "id": "bnKcfHBGo4qH"
      },
      "source": [
        "## Why start with a Decision Tree Classifier?\n",
        "\n",
        "This is a great classification model to start with today because the algorithm is simple to understand and explain, and it is relateable in that we make decisions like this in the real world all the time!"
      ]
    },
    {
      "cell_type": "markdown",
      "metadata": {
        "id": "4kW7LKByOPT6"
      },
      "source": [
        "___"
      ]
    },
    {
      "cell_type": "markdown",
      "metadata": {
        "id": "TH-R-74N8eiC"
      },
      "source": [
        "## <font color=green>Now What?</font>\n",
        "\n",
        "We will work through the data science pipeline focused on preparing for our Decision Tree Model. Let's do a simple end-to-end Classification Machine Learning project together!\n",
        "\n",
        "## Data Science Pipeline\n",
        "- **Plan -** This is where we form initial hypotheses and seek to understand stakeholder goals from the data.\n",
        "- **Acquire -** We have to get our hands on the raw data (from databases, loading spreadsheets, scraping websites, etc...)\n",
        "- **Prepare -** Data must be cleaned for analysis and modeling.\n",
        "- **Explore -** Statistical testing and Visualizing relationships in the data and how the data helps us understand what we're trying to predict or discover\n",
        "- **Model -** Build Machine Learning Models.\n",
        "- **Present** Findings & report.\n",
        "\n",
        "Each stage of the pipeline feeds into the next, but the process is not necessarily an iterative one. You will almost always loop back to an earlier stage of the pipeline, and more than once, as you explore and learn more about your data. Exploration will likely inform decisions you make in preparing your data for further analysis and/or modeling."
      ]
    },
    {
      "cell_type": "markdown",
      "metadata": {
        "id": "JkMhscUBfrf3"
      },
      "source": [
        "# Imports"
      ]
    },
    {
      "cell_type": "code",
      "metadata": {
        "id": "yo8pmHS-8eh7"
      },
      "source": [
        "import pandas as pd\n",
        "import numpy as np\n",
        "\n",
        "# visualizing\n",
        "import seaborn as sns\n",
        "import matplotlib.pyplot as plt\n",
        "plt.rc('figure', figsize=(10, 8))\n",
        "plt.rc('font', size=12)\n",
        "\n",
        "# turn off warnings\n",
        "import warnings\n",
        "warnings.filterwarnings(\"ignore\")\n",
        "\n",
        "# preparing\n",
        "from sklearn.model_selection import train_test_split\n",
        "\n",
        "# modeling and evaluating\n",
        "from sklearn.tree import DecisionTreeClassifier"
      ],
      "execution_count": 1,
      "outputs": []
    },
    {
      "cell_type": "markdown",
      "metadata": {
        "id": "iciekwdU8eiC"
      },
      "source": [
        "<hr style=\"border-top: 10px groove limegreen; margin-top: 1px; margin-bottom: 1px\"></hr>"
      ]
    },
    {
      "cell_type": "markdown",
      "metadata": {
        "id": "1EpSF3Vo8eiD"
      },
      "source": [
        "# Acquire"
      ]
    },
    {
      "cell_type": "markdown",
      "metadata": {
        "id": "M4DMmCAf8eiD"
      },
      "source": [
        "<hr style=\"border-top: 10px groove limegreen; margin-top: 1px; margin-bottom: 1px\"></hr>"
      ]
    },
    {
      "cell_type": "markdown",
      "metadata": {
        "id": "LqFReqjo8eiF"
      },
      "source": [
        "### Read a csv file into a pandas DataFrame\n",
        "\n",
        "```python\n",
        "df = pd.read_csv(url)\n",
        "```"
      ]
    },
    {
      "cell_type": "code",
      "metadata": {
        "id": "qBU4YGJE8eiF"
      },
      "source": [
        "url = 'https://raw.githubusercontent.com/faithkane3/faithkane3.github.io/master/titanic_df.csv'\n",
        "\n",
        "titanic_df = pd.read_csv(url, index_col=0)"
      ],
      "execution_count": 2,
      "outputs": []
    },
    {
      "cell_type": "code",
      "metadata": {
        "id": "a2qOGTvG8eiI"
      },
      "source": [
        "# Try the .head() method to peek at the first 5 rows of titanic_df.\n",
        "\n"
      ],
      "execution_count": 3,
      "outputs": []
    },
    {
      "cell_type": "code",
      "metadata": {
        "id": "Z9cBf-SyfdoW"
      },
      "source": [
        "# Try the .info() method to return the data type and non-null count of observations of titanic_df.\n",
        "\n"
      ],
      "execution_count": 4,
      "outputs": []
    },
    {
      "cell_type": "markdown",
      "metadata": {
        "id": "ST6RIJU7ha6n"
      },
      "source": [
        "## Data Dictionary\n",
        "\n",
        "|Column Name| Description|\n",
        "|:-----------|:------------------------------------|\n",
        "|passenger_id| A column added by Kaggle to identify each row and make submissions easier|\n",
        "|survived|Whether the passenger survived or not and the value we are predicting (0=No, 1=Yes)|\n",
        "|pclass|The class of the ticket the passenger purchased (1=1st, 2=2nd, 3=3rd)|\n",
        "|sex|The passenger’s sex|\n",
        "|age|The passenger’s age in years|\n",
        "|sibsp|The number of siblings or spouses the passenger had aboard|\n",
        "|parch|The number of parents or children the passenger had aboard|\n",
        "|fare|The fare the passenger paid|\n",
        "|embarked|'C', 'Q', 'S'|\n",
        "|class|'First', 'Second', 'Third'|\n",
        "|deck|'A', 'B', 'C', 'D', 'E', 'F', 'G'|\n",
        "|embark_town|The port where the passenger embarked ('Cherbourg', 'Queenstown', 'Southampton')|\n",
        "|alone|0=No, 1=Yes|"
      ]
    },
    {
      "cell_type": "markdown",
      "metadata": {
        "id": "zIa8g5tlWx2K"
      },
      "source": [
        "#### `.describe()`\n",
        "\n",
        "I can look at the descriptive statistics for my age column.\n",
        "\n",
        "```python\n",
        "df.column.describe()\n",
        "```\n"
      ]
    },
    {
      "cell_type": "code",
      "metadata": {
        "id": "knHDsksWgbXB"
      },
      "source": [
        "# Use the .describe() method on the age column of titanic_df.\n",
        "\n"
      ],
      "execution_count": 5,
      "outputs": []
    },
    {
      "cell_type": "markdown",
      "metadata": {
        "id": "gU9NPXEZWv6Q"
      },
      "source": [
        "___"
      ]
    },
    {
      "cell_type": "markdown",
      "metadata": {
        "id": "jAJnYElQWlcD"
      },
      "source": [
        "#### `.hist()`\n",
        "\n",
        "I can check out a distribution of a single variable before I split my data."
      ]
    },
    {
      "cell_type": "code",
      "metadata": {
        "id": "Ww4uMPzq7dNV",
        "outputId": "88dff873-931e-433d-a9af-6676f6cd76b8",
        "colab": {
          "base_uri": "https://localhost:8080/",
          "height": 294
        }
      },
      "source": [
        "# Plot histogram of survived variable.\n",
        "\n",
        "plt.hist(titanic_df.age, bins=15, color='dodgerblue', ec='black', linewidth=2)\n",
        "\n",
        "plt.title('Distribution of Age in Titanic Dataset')\n",
        "plt.xlabel('Age')\n",
        "plt.ylabel('Count')\n",
        "\n",
        "plt.show()"
      ],
      "execution_count": 6,
      "outputs": [
        {
          "output_type": "display_data",
          "data": {
            "image/png": "[encoded data removed]",
            "text/plain": [
              "<Figure size 432x288 with 1 Axes>"
            ]
          },
          "metadata": {
            "tags": [],
            "needs_background": "light"
          }
        }
      ]
    },
    {
      "cell_type": "code",
      "metadata": {
        "id": "s70-bkvFXbdr"
      },
      "source": [
        "# Copy the code from above and see if you can create a histogram of the 'fare' variable.\n",
        "\n"
      ],
      "execution_count": 7,
      "outputs": []
    },
    {
      "cell_type": "markdown",
      "metadata": {
        "id": "TPhn3BpKXY-C"
      },
      "source": [
        "___"
      ]
    },
    {
      "cell_type": "markdown",
      "metadata": {
        "id": "YB6Hx_pWWMMW"
      },
      "source": [
        "#### `.value_counts()`\n",
        "\n",
        "\n",
        "I can check out the frequency of unique variables in a single column or Series.\n"
      ]
    },
    {
      "cell_type": "code",
      "metadata": {
        "id": "uTovfnD0XMp-",
        "outputId": "7fd5ac58-a4e8-4fc2-9241-ac548909aaeb",
        "colab": {
          "base_uri": "https://localhost:8080/",
          "height": 69
        }
      },
      "source": [
        "titanic_df.sex.value_counts(dropna=False)"
      ],
      "execution_count": 8,
      "outputs": [
        {
          "output_type": "execute_result",
          "data": {
            "text/plain": [
              "male      577\n",
              "female    314\n",
              "Name: sex, dtype: int64"
            ]
          },
          "metadata": {
            "tags": []
          },
          "execution_count": 8
        }
      ]
    },
    {
      "cell_type": "code",
      "metadata": {
        "id": "FlE1drIBXth8"
      },
      "source": [
        "# Copy the code from above, but change the column name to explore another variable.\n",
        "\n"
      ],
      "execution_count": 9,
      "outputs": []
    },
    {
      "cell_type": "markdown",
      "metadata": {
        "id": "UH2rkJ7B8eiQ"
      },
      "source": [
        "<hr style=\"border-top: 10px groove goldenrod; margin-top: 1px; margin-bottom: 1px\"></hr>"
      ]
    },
    {
      "cell_type": "markdown",
      "metadata": {
        "id": "ZTzfe8CW8eiQ"
      },
      "source": [
        "# Prepare - Imputing and Encoding Focus\n",
        "\n",
        "In this stage of the pipeline, I will start to clean my data. This might mean finding and making decisions about how I want to take care of Null values, creating new columns from exisiting columns, dropping columns I don't need, etc. I may also have to encode a string variable to an integer if I want to use that feature as a predictor or feature in my model."
      ]
    },
    {
      "cell_type": "markdown",
      "metadata": {
        "id": "IuPQT7GK8eiR"
      },
      "source": [
        "<hr style=\"border-top: 10px groove goldenrod; margin-top: 1px; margin-bottom: 1px\"></hr>"
      ]
    },
    {
      "cell_type": "markdown",
      "metadata": {
        "id": "C9uu9DDx8eiR"
      },
      "source": [
        "### **<font color=red>What is Imputation?</font>**\n",
        "\n",
        "**Imputation** is the process of replacing missing data with substituted values. We have to take care of Null values before we use our data to model.\n",
        "\n",
        "**Encoding** is when you convert a string to an integer representation making a categorical value useable in a ML model.\n",
        "\n",
        "<font color=purple>I'll demonstrate a few different techniques to handle these tasks below.</font>"
      ]
    },
    {
      "cell_type": "markdown",
      "metadata": {
        "id": "YonDESau8eiS"
      },
      "source": [
        "___"
      ]
    },
    {
      "cell_type": "markdown",
      "metadata": {
        "id": "EicSalcU8eiS"
      },
      "source": [
        "### **<font color=orange>So What Are They For?</font>**\n",
        "\n",
        "You might choose to impute the mean, median, or mode of a given column to fill any holes or cells with missing data. Depending on the situation, you might just decide to drop rows or columns that have more than a certain percentage of missing values. Whatever you decide to do, you first need to inspect your dataset for Null values."
      ]
    },
    {
      "cell_type": "markdown",
      "metadata": {
        "id": "2xzZa6ZQ8eiS"
      },
      "source": [
        "___"
      ]
    },
    {
      "cell_type": "markdown",
      "metadata": {
        "id": "fbMdvthe8eiT"
      },
      "source": [
        "### **<font color=green>Now What?</font>**\n",
        "\n",
        "Let's take a look at our data and decide what variables may need imputing or just dropped. You might also decide to create new columns in prepare."
      ]
    },
    {
      "cell_type": "markdown",
      "metadata": {
        "id": "p8b8Tqgv8eiX"
      },
      "source": [
        "#### `.isna()` and `.isnull()`\n",
        "\n",
        "**I'll quickly check my dataset for missing values:**\n",
        "\n",
        "><font color=purple>Here's a cool way to use a heatmap to visualize Null values in your dataset.</font>"
      ]
    },
    {
      "cell_type": "code",
      "metadata": {
        "id": "DUVCgfZP8eiY",
        "outputId": "d0c60eaa-88fc-41db-aa80-e35018e60089",
        "colab": {
          "base_uri": "https://localhost:8080/",
          "height": 338
        }
      },
      "source": [
        "sns.heatmap(titanic_df.isnull(), yticklabels = False, cbar = False, cmap='Blues')\n",
        "\n",
        "plt.title('Null Values by Column')\n",
        "plt.show()"
      ],
      "execution_count": 10,
      "outputs": [
        {
          "output_type": "display_data",
          "data": {
            "image/png": "[encoded data removed]",
            "text/plain": [
              "<Figure size 432x288 with 1 Axes>"
            ]
          },
          "metadata": {
            "tags": [],
            "needs_background": "light"
          }
        }
      ]
    },
    {
      "cell_type": "markdown",
      "metadata": {
        "id": "B4btBQ5M8eia"
      },
      "source": [
        "**Examine total missing values by column; this can help me make some decisions about imputing and dropping.**"
      ]
    },
    {
      "cell_type": "code",
      "metadata": {
        "id": "3uSKMXCJ8eia",
        "outputId": "c9666815-a09a-4dc8-9758-2837bbca1e08",
        "colab": {
          "base_uri": "https://localhost:8080/",
          "height": 260
        }
      },
      "source": [
        "titanic_df.isna().sum()"
      ],
      "execution_count": 11,
      "outputs": [
        {
          "output_type": "execute_result",
          "data": {
            "text/plain": [
              "passenger_id      0\n",
              "survived          0\n",
              "pclass            0\n",
              "sex               0\n",
              "age             177\n",
              "sibsp             0\n",
              "parch             0\n",
              "fare              0\n",
              "embarked          2\n",
              "class             0\n",
              "deck            688\n",
              "embark_town       2\n",
              "alone             0\n",
              "dtype: int64"
            ]
          },
          "metadata": {
            "tags": []
          },
          "execution_count": 11
        }
      ]
    },
    {
      "cell_type": "markdown",
      "metadata": {
        "id": "2fy64OVQ8eid"
      },
      "source": [
        "**Examine percent of missing values by column; I can begin to decide how to handle my missing values based on this.**"
      ]
    },
    {
      "cell_type": "code",
      "metadata": {
        "id": "Ckseb8tx8eid",
        "outputId": "d4bb13f5-73be-4b89-cda6-5e6654cd874c",
        "colab": {
          "base_uri": "https://localhost:8080/",
          "height": 260
        }
      },
      "source": [
        "round(titanic_df.isna().mean() * 100, 2)"
      ],
      "execution_count": 12,
      "outputs": [
        {
          "output_type": "execute_result",
          "data": {
            "text/plain": [
              "passenger_id     0.00\n",
              "survived         0.00\n",
              "pclass           0.00\n",
              "sex              0.00\n",
              "age             19.87\n",
              "sibsp            0.00\n",
              "parch            0.00\n",
              "fare             0.00\n",
              "embarked         0.22\n",
              "class            0.00\n",
              "deck            77.22\n",
              "embark_town      0.22\n",
              "alone            0.00\n",
              "dtype: float64"
            ]
          },
          "metadata": {
            "tags": []
          },
          "execution_count": 12
        }
      ]
    },
    {
      "cell_type": "markdown",
      "metadata": {
        "id": "fCy3fkhvrabo"
      },
      "source": [
        "___"
      ]
    },
    {
      "cell_type": "markdown",
      "metadata": {
        "id": "Q2TlrTE38eiT"
      },
      "source": [
        "#### `.map()` to Create a Column\n",
        "\n",
        "I'm adding a column here, `is_female`, and demonstrating how I could do that using `df.map()`. This is one way I can encode my `sex` feature and use it in my model later."
      ]
    },
    {
      "cell_type": "code",
      "metadata": {
        "id": "PRVgi2EP8eiU",
        "outputId": "468e85fa-c330-42f8-9c38-57c818301c95",
        "colab": {
          "base_uri": "https://localhost:8080/",
          "height": 161
        }
      },
      "source": [
        "titanic_df['is_female'] = titanic_df.sex.map({'female': 1, 'male': 0})\n",
        "\n",
        "titanic_df.head(3)"
      ],
      "execution_count": 13,
      "outputs": [
        {
          "output_type": "execute_result",
          "data": {
            "text/html": [
              "<div>\n",
              "<style scoped>\n",
              "    .dataframe tbody tr th:only-of-type {\n",
              "        vertical-align: middle;\n",
              "    }\n",
              "\n",
              "    .dataframe tbody tr th {\n",
              "        vertical-align: top;\n",
              "    }\n",
              "\n",
              "    .dataframe thead th {\n",
              "        text-align: right;\n",
              "    }\n",
              "</style>\n",
              "<table border=\"1\" class=\"dataframe\">\n",
              "  <thead>\n",
              "    <tr style=\"text-align: right;\">\n",
              "      <th></th>\n",
              "      <th>passenger_id</th>\n",
              "      <th>survived</th>\n",
              "      <th>pclass</th>\n",
              "      <th>sex</th>\n",
              "      <th>age</th>\n",
              "      <th>sibsp</th>\n",
              "      <th>parch</th>\n",
              "      <th>fare</th>\n",
              "      <th>embarked</th>\n",
              "      <th>class</th>\n",
              "      <th>deck</th>\n",
              "      <th>embark_town</th>\n",
              "      <th>alone</th>\n",
              "      <th>is_female</th>\n",
              "    </tr>\n",
              "  </thead>\n",
              "  <tbody>\n",
              "    <tr>\n",
              "      <th>0</th>\n",
              "      <td>0</td>\n",
              "      <td>0</td>\n",
              "      <td>3</td>\n",
              "      <td>male</td>\n",
              "      <td>22.0</td>\n",
              "      <td>1</td>\n",
              "      <td>0</td>\n",
              "      <td>7.2500</td>\n",
              "      <td>S</td>\n",
              "      <td>Third</td>\n",
              "      <td>NaN</td>\n",
              "      <td>Southampton</td>\n",
              "      <td>0</td>\n",
              "      <td>0</td>\n",
              "    </tr>\n",
              "    <tr>\n",
              "      <th>1</th>\n",
              "      <td>1</td>\n",
              "      <td>1</td>\n",
              "      <td>1</td>\n",
              "      <td>female</td>\n",
              "      <td>38.0</td>\n",
              "      <td>1</td>\n",
              "      <td>0</td>\n",
              "      <td>71.2833</td>\n",
              "      <td>C</td>\n",
              "      <td>First</td>\n",
              "      <td>C</td>\n",
              "      <td>Cherbourg</td>\n",
              "      <td>0</td>\n",
              "      <td>1</td>\n",
              "    </tr>\n",
              "    <tr>\n",
              "      <th>2</th>\n",
              "      <td>2</td>\n",
              "      <td>1</td>\n",
              "      <td>3</td>\n",
              "      <td>female</td>\n",
              "      <td>26.0</td>\n",
              "      <td>0</td>\n",
              "      <td>0</td>\n",
              "      <td>7.9250</td>\n",
              "      <td>S</td>\n",
              "      <td>Third</td>\n",
              "      <td>NaN</td>\n",
              "      <td>Southampton</td>\n",
              "      <td>1</td>\n",
              "      <td>1</td>\n",
              "    </tr>\n",
              "  </tbody>\n",
              "</table>\n",
              "</div>"
            ],
            "text/plain": [
              "   passenger_id  survived  pclass     sex  ...  deck  embark_town  alone  is_female\n",
              "0             0         0       3    male  ...   NaN  Southampton      0          0\n",
              "1             1         1       1  female  ...     C    Cherbourg      0          1\n",
              "2             2         1       3  female  ...   NaN  Southampton      1          1\n",
              "\n",
              "[3 rows x 14 columns]"
            ]
          },
          "metadata": {
            "tags": []
          },
          "execution_count": 13
        }
      ]
    },
    {
      "cell_type": "markdown",
      "metadata": {
        "id": "Vi2MvbwL8eiq"
      },
      "source": [
        "___"
      ]
    },
    {
      "cell_type": "markdown",
      "metadata": {
        "id": "K336Q55Q8eir"
      },
      "source": [
        "#### `.drop()`\n",
        "\n",
        "If I'm going to drop any columns or rows, I can do it right here before the split. There are some categorical columns I'm not dropping because I want to use them in explore. I'm choosing to keep my dataframe exploration-friendly, and I can curate columns for modeling later by subsetting my datasets. I'll demonstrate this in modeling below."
      ]
    },
    {
      "cell_type": "code",
      "metadata": {
        "id": "HJfJyMXQ8eir",
        "outputId": "fada913c-0b51-4adf-c74e-79f58cfc3248",
        "colab": {
          "base_uri": "https://localhost:8080/",
          "height": 329
        }
      },
      "source": [
        "titanic_df = titanic_df.drop(columns=['deck', 'passenger_id', 'embarked'])\n",
        "titanic_df.info()"
      ],
      "execution_count": 14,
      "outputs": [
        {
          "output_type": "stream",
          "text": [
            "<class 'pandas.core.frame.DataFrame'>\n",
            "Int64Index: 891 entries, 0 to 890\n",
            "Data columns (total 11 columns):\n",
            " #   Column       Non-Null Count  Dtype  \n",
            "---  ------       --------------  -----  \n",
            " 0   survived     891 non-null    int64  \n",
            " 1   pclass       891 non-null    int64  \n",
            " 2   sex          891 non-null    object \n",
            " 3   age          714 non-null    float64\n",
            " 4   sibsp        891 non-null    int64  \n",
            " 5   parch        891 non-null    int64  \n",
            " 6   fare         891 non-null    float64\n",
            " 7   class        891 non-null    object \n",
            " 8   embark_town  889 non-null    object \n",
            " 9   alone        891 non-null    int64  \n",
            " 10  is_female    891 non-null    int64  \n",
            "dtypes: float64(2), int64(6), object(3)\n",
            "memory usage: 83.5+ KB\n"
          ],
          "name": "stdout"
        }
      ]
    },
    {
      "cell_type": "markdown",
      "metadata": {
        "id": "TAkmOozd8eit"
      },
      "source": [
        "___"
      ]
    },
    {
      "cell_type": "markdown",
      "metadata": {
        "id": "yus58ntV8eit"
      },
      "source": [
        "### Split Your Data"
      ]
    },
    {
      "cell_type": "markdown",
      "metadata": {
        "id": "iNv5UN7D8eiu"
      },
      "source": [
        "- <font color=red>We need to split the dataset before we begin exploring variable relationships or performing calculations like finding the mean to impute for missing values.</font> \n",
        "\n",
        "- This is to prevent what is called data leakage; that is when our validate or test data is used. Remember, those datasets should be set aside to represent unseen data, so we don't want to calculate a mean, for example, from the entire dataset and impute it. We would want to calculate the mean from our train dataset and impute it into all of our datasets."
      ]
    },
    {
      "cell_type": "code",
      "metadata": {
        "id": "y3A_ar_P8eiu"
      },
      "source": [
        "train_validate, test = train_test_split(titanic_df, test_size=.2, \n",
        "                                        random_state=123, \n",
        "                                        stratify=titanic_df.survived)\n",
        "\n",
        "train, validate = train_test_split(train_validate, test_size=.3, \n",
        "                                   random_state=123, \n",
        "                                   stratify=train_validate.survived)"
      ],
      "execution_count": 15,
      "outputs": []
    },
    {
      "cell_type": "code",
      "metadata": {
        "id": "OF-1_ZeW8eix",
        "outputId": "c0c17d1a-ccde-4626-8d31-b4cccb260be2",
        "colab": {
          "base_uri": "https://localhost:8080/",
          "height": 69
        }
      },
      "source": [
        "print(f'train -> {train.shape}')\n",
        "print(f'validate -> {validate.shape}')\n",
        "print(f'test -> {test.shape}')"
      ],
      "execution_count": 16,
      "outputs": [
        {
          "output_type": "stream",
          "text": [
            "train -> (498, 11)\n",
            "validate -> (214, 11)\n",
            "test -> (179, 11)\n"
          ],
          "name": "stdout"
        }
      ]
    },
    {
      "cell_type": "markdown",
      "metadata": {
        "id": "zci06l9I8eiy"
      },
      "source": [
        "___"
      ]
    },
    {
      "cell_type": "markdown",
      "metadata": {
        "id": "Vue_T3OF8eiz"
      },
      "source": [
        "**Now I can calculate the mean value for age using my train dataset and investigate relationships between variables.**"
      ]
    },
    {
      "cell_type": "markdown",
      "metadata": {
        "id": "qvQSn18J8ei2"
      },
      "source": [
        "### Imputing Techniques"
      ]
    },
    {
      "cell_type": "markdown",
      "metadata": {
        "id": "l0Qkeqw88ei3"
      },
      "source": [
        "#### `.fillna()`\n",
        "\n",
        "**Fill null values in a column in your datasets with a constant like 0; reassign to original dataframes.**\n",
        "\n",
        "```python\n",
        "train['col'] = train['col'].fillna(0)\n",
        "\n",
        "validate['col'] = validate['col'].fillna(0)\n",
        "\n",
        "test['col'] = test['col'].fillna(0)\n",
        "```"
      ]
    },
    {
      "cell_type": "markdown",
      "metadata": {
        "id": "csDc-k7g8ei3"
      },
      "source": [
        "___"
      ]
    },
    {
      "cell_type": "markdown",
      "metadata": {
        "id": "-u1n_9zO8ei4"
      },
      "source": [
        "**Fill null values in a column with the overall average from the training data.**"
      ]
    },
    {
      "cell_type": "code",
      "metadata": {
        "id": "nnDqEOFV8ei4",
        "outputId": "2a5df3f9-4171-4012-ca97-46007540c5d5",
        "colab": {
          "base_uri": "https://localhost:8080/",
          "height": 34
        }
      },
      "source": [
        "#Calculate our fill value using train dataset only. I'm using the round function to round up to 30.\n",
        "\n",
        "avg_age = round(train.age.mean())\n",
        "avg_age\n"
      ],
      "execution_count": 17,
      "outputs": [
        {
          "output_type": "execute_result",
          "data": {
            "text/plain": [
              "30"
            ]
          },
          "metadata": {
            "tags": []
          },
          "execution_count": 17
        }
      ]
    },
    {
      "cell_type": "code",
      "metadata": {
        "id": "WEkjU5Yc1_Ps"
      },
      "source": [
        "# Fill null values in all of our datasets using our hardcoded value.\n",
        "\n",
        "train.age = train.age.fillna(avg_age)\n",
        "\n",
        "validate.age = validate.age.fillna(avg_age)\n",
        "\n",
        "test.age = test.age.fillna(avg_age)"
      ],
      "execution_count": 18,
      "outputs": []
    },
    {
      "cell_type": "code",
      "metadata": {
        "id": "ZmRr9KK48ei6",
        "outputId": "e35a0797-4ddc-4e80-a318-db9ff3ce0285",
        "colab": {
          "base_uri": "https://localhost:8080/",
          "height": 338
        }
      },
      "source": [
        "# Validate that our fill was successful.\n",
        "\n",
        "sns.heatmap(train.isnull(), yticklabels = False, cbar = False, cmap='Blues')\n",
        "\n",
        "plt.title('Null Values by Column After Handling Nulls in Age')\n",
        "plt.show()"
      ],
      "execution_count": 19,
      "outputs": [
        {
          "output_type": "display_data",
          "data": {
            "image/png": "[encoded data removed]",
            "text/plain": [
              "<Figure size 432x288 with 1 Axes>"
            ]
          },
          "metadata": {
            "tags": [],
            "needs_background": "light"
          }
        }
      ]
    },
    {
      "cell_type": "markdown",
      "metadata": {
        "id": "r5mSUlPg8ei8"
      },
      "source": [
        "___"
      ]
    },
    {
      "cell_type": "markdown",
      "metadata": {
        "id": "y86leiRT8ei9"
      },
      "source": [
        "#### What if our missing values are in a categorical column?\n",
        "\n",
        "Here's one way you could handle this if without dropping observations.\n",
        "\n",
        "```python\n",
        "cat_mode = train['Label'].value_counts().index[0]\n",
        "\n",
        "train['cat_column'] = train['cat_column'].fillna(cat_mode)\n",
        "\n",
        "validate['cat_column'] = validate['cat_column'].fillna(cat_mode)\n",
        "\n",
        "test['cat_column'] = test['cat_column'].fillna(cat_mode)\n",
        "```"
      ]
    },
    {
      "cell_type": "code",
      "metadata": {
        "id": "gQDRcAVz8ei-",
        "outputId": "baac8b72-da0f-4d8e-84e5-d9c07586225e",
        "colab": {
          "base_uri": "https://localhost:8080/",
          "height": 34
        }
      },
      "source": [
        "# Here I am summing up all of the Null values in the embark_town column in train; there is 1.\n",
        "\n",
        "train['embark_town'].isnull().sum()"
      ],
      "execution_count": 20,
      "outputs": [
        {
          "output_type": "execute_result",
          "data": {
            "text/plain": [
              "1"
            ]
          },
          "metadata": {
            "tags": []
          },
          "execution_count": 20
        }
      ]
    },
    {
      "cell_type": "code",
      "metadata": {
        "id": "w9iqGFmR2oTL",
        "outputId": "3be56546-0309-4f22-bc6c-11b18688e7fa",
        "colab": {
          "base_uri": "https://localhost:8080/",
          "height": 86
        }
      },
      "source": [
        "# Using the value_counts() method on the embark_town column. Southampton is the most common value.\n",
        "\n",
        "train['embark_town'].value_counts()"
      ],
      "execution_count": 21,
      "outputs": [
        {
          "output_type": "execute_result",
          "data": {
            "text/plain": [
              "Southampton    354\n",
              "Cherbourg      102\n",
              "Queenstown      41\n",
              "Name: embark_town, dtype: int64"
            ]
          },
          "metadata": {
            "tags": []
          },
          "execution_count": 21
        }
      ]
    },
    {
      "cell_type": "code",
      "metadata": {
        "id": "lAZG8zeP3BfB",
        "outputId": "6f141da2-03f1-4453-e5af-30a8719a90fc",
        "colab": {
          "base_uri": "https://localhost:8080/",
          "height": 34
        }
      },
      "source": [
        "# I can grab that first index label, Southampton, using indexing like this.\n",
        "\n",
        "train['embark_town'].value_counts().index[0]"
      ],
      "execution_count": 22,
      "outputs": [
        {
          "output_type": "execute_result",
          "data": {
            "application/vnd.google.colaboratory.intrinsic+json": {
              "type": "string"
            },
            "text/plain": [
              "'Southampton'"
            ]
          },
          "metadata": {
            "tags": []
          },
          "execution_count": 22
        }
      ]
    },
    {
      "cell_type": "code",
      "metadata": {
        "id": "ksgv6IM28ejA",
        "outputId": "663ba801-6fdc-4d15-9a0b-86c5a1050128",
        "colab": {
          "base_uri": "https://localhost:8080/",
          "height": 34
        }
      },
      "source": [
        "# I can put it all together and save it to the variable embark_mode to fill my Nulls below.\n",
        "\n",
        "embark_mode = train['embark_town'].value_counts().index[0]\n",
        "embark_mode"
      ],
      "execution_count": 23,
      "outputs": [
        {
          "output_type": "execute_result",
          "data": {
            "application/vnd.google.colaboratory.intrinsic+json": {
              "type": "string"
            },
            "text/plain": [
              "'Southampton'"
            ]
          },
          "metadata": {
            "tags": []
          },
          "execution_count": 23
        }
      ]
    },
    {
      "cell_type": "markdown",
      "metadata": {
        "id": "9441o7Ts8ejC"
      },
      "source": [
        "**Fill null values in `embark_town` in all datasets with `embark_mode` value from the train dataset; reassign to dataframes.**"
      ]
    },
    {
      "cell_type": "code",
      "metadata": {
        "id": "GGVUft2Q8ejC"
      },
      "source": [
        "train['embark_town'] = train['embark_town'].fillna(embark_mode)\n",
        "validate['embark_town'] = validate['embark_town'].fillna(embark_mode)\n",
        "test['embark_town'] = test['embark_town'].fillna(embark_mode)"
      ],
      "execution_count": 24,
      "outputs": []
    },
    {
      "cell_type": "code",
      "metadata": {
        "id": "-9RhjDoN8ejF",
        "outputId": "a007278c-7020-494f-e49a-de47fe0c8f15",
        "colab": {
          "base_uri": "https://localhost:8080/",
          "height": 34
        }
      },
      "source": [
        "# Validate our fill on train dataset.\n",
        "\n",
        "train['embark_town'].isnull().sum()"
      ],
      "execution_count": 25,
      "outputs": [
        {
          "output_type": "execute_result",
          "data": {
            "text/plain": [
              "0"
            ]
          },
          "metadata": {
            "tags": []
          },
          "execution_count": 25
        }
      ]
    },
    {
      "cell_type": "markdown",
      "metadata": {
        "id": "72gPTU5b8ejH"
      },
      "source": [
        "___"
      ]
    },
    {
      "cell_type": "markdown",
      "metadata": {
        "id": "ls2OSeMm8ejJ"
      },
      "source": [
        "# Explore"
      ]
    },
    {
      "cell_type": "markdown",
      "metadata": {
        "id": "VGIeVqSo8ejJ"
      },
      "source": [
        "<hr style=\"border-top: 10px groove dodgerblue; margin-top: 1px; margin-bottom: 1px\"></hr>"
      ]
    },
    {
      "cell_type": "markdown",
      "metadata": {
        "id": "3zBQt1Vc8ejK"
      },
      "source": [
        "![image.png](https://www.cambridgemaths.org/Images/E29-exploratory-data-analysis.jpg)\n",
        "\n",
        "### **<font color=red>What is EDA (Exploratory Data Analysis)?</font>**\n",
        "\n",
        "Exploratory Data Analysis involves learning more about the data you're working with. One reason to perform EDA is to visualize parts of the data to better understand the correlation between the features and the target.\n",
        "\n",
        "**The preparation for your dataset for exploration may not be the same as the prepartion of your dataset for modeling.** The requirements of Machine Learning algorithms do not always overlap with the requirements for good data visualization or exploration."
      ]
    },
    {
      "cell_type": "markdown",
      "metadata": {
        "id": "F84lPjzz8ejL"
      },
      "source": [
        "___"
      ]
    },
    {
      "cell_type": "markdown",
      "metadata": {
        "id": "LwFdeqUb8ejL"
      },
      "source": [
        "### **<font color=orange>So What Types of Viz are best for exploring categorical vs continuous data?</font>**"
      ]
    },
    {
      "cell_type": "markdown",
      "metadata": {
        "id": "iC68aQ1O8ejL"
      },
      "source": [
        "How do you decide what chart to use? Should you aggregate your data to get a better view? Are you making a comparison or showing a relationship between variables? Do you want to display the distribution or composition of your dataset? These are important questions to ask yourself when deciding on types of chart to use and data aggregations for exploration.\n",
        "\n",
        "Read more about how to choose a chart [here](https://eazybi.com/blog/data_visualization_and_chart_types/).\n",
        "\n",
        "![image](https://www.mymarketresearchmethods.com/wp-content/uploads/2013/01/chart-types-choosing-the-right-one.png)"
      ]
    },
    {
      "cell_type": "markdown",
      "metadata": {
        "id": "gnRTC4OI8ejM"
      },
      "source": [
        "___"
      ]
    },
    {
      "cell_type": "markdown",
      "metadata": {
        "id": "MZQOwXke8ejM"
      },
      "source": [
        "### <font color=green>Now What?</font>\n",
        "\n",
        "**Below is a collection of some possibilities for exploring categorical and continuous values.** \n",
        "\n",
        "If you want more, check out [this article](https://www.machinelearningplus.com/plots/top-50-matplotlib-visualizations-the-master-plots-python/) showing 50 amazing matplotlib visualizations with code. It's organized by purpose of visualization objective, so it's easy to navigate, too."
      ]
    },
    {
      "cell_type": "markdown",
      "metadata": {
        "id": "DC9u94Uv8ejN"
      },
      "source": [
        "___"
      ]
    },
    {
      "cell_type": "markdown",
      "metadata": {
        "id": "FVZvG0tE8Th7"
      },
      "source": [
        "#### `sns.countplot()`\n",
        "\n",
        "I can check out the count of unique categorical or discrete variables in a column."
      ]
    },
    {
      "cell_type": "code",
      "metadata": {
        "id": "Y0Ykz4hs8ejP",
        "outputId": "ed3c4727-8d2e-4bad-acbb-74e9a3de3fe3",
        "colab": {
          "base_uri": "https://localhost:8080/",
          "height": 80
        }
      },
      "source": [
        "train.head(1)"
      ],
      "execution_count": 26,
      "outputs": [
        {
          "output_type": "execute_result",
          "data": {
            "text/html": [
              "<div>\n",
              "<style scoped>\n",
              "    .dataframe tbody tr th:only-of-type {\n",
              "        vertical-align: middle;\n",
              "    }\n",
              "\n",
              "    .dataframe tbody tr th {\n",
              "        vertical-align: top;\n",
              "    }\n",
              "\n",
              "    .dataframe thead th {\n",
              "        text-align: right;\n",
              "    }\n",
              "</style>\n",
              "<table border=\"1\" class=\"dataframe\">\n",
              "  <thead>\n",
              "    <tr style=\"text-align: right;\">\n",
              "      <th></th>\n",
              "      <th>survived</th>\n",
              "      <th>pclass</th>\n",
              "      <th>sex</th>\n",
              "      <th>age</th>\n",
              "      <th>sibsp</th>\n",
              "      <th>parch</th>\n",
              "      <th>fare</th>\n",
              "      <th>class</th>\n",
              "      <th>embark_town</th>\n",
              "      <th>alone</th>\n",
              "      <th>is_female</th>\n",
              "    </tr>\n",
              "  </thead>\n",
              "  <tbody>\n",
              "    <tr>\n",
              "      <th>583</th>\n",
              "      <td>0</td>\n",
              "      <td>1</td>\n",
              "      <td>male</td>\n",
              "      <td>36.0</td>\n",
              "      <td>0</td>\n",
              "      <td>0</td>\n",
              "      <td>40.125</td>\n",
              "      <td>First</td>\n",
              "      <td>Cherbourg</td>\n",
              "      <td>1</td>\n",
              "      <td>0</td>\n",
              "    </tr>\n",
              "  </tbody>\n",
              "</table>\n",
              "</div>"
            ],
            "text/plain": [
              "     survived  pclass   sex   age  ...  class  embark_town  alone is_female\n",
              "583         0       1  male  36.0  ...  First    Cherbourg      1         0\n",
              "\n",
              "[1 rows x 11 columns]"
            ]
          },
          "metadata": {
            "tags": []
          },
          "execution_count": 26
        }
      ]
    },
    {
      "cell_type": "code",
      "metadata": {
        "id": "dLJFMY753_Oe",
        "outputId": "f9bdc814-4bd7-4d2f-c4f0-2cceaa685584",
        "colab": {
          "base_uri": "https://localhost:8080/",
          "height": 294
        }
      },
      "source": [
        "# Check out the count of passengers in each class.\n",
        "\n",
        "sns.countplot(x = 'class', data=train, palette='Purples', ec='black', linewidth=2)\n",
        "\n",
        "plt.title('What Was the Distribution of Passenger Class?')\n",
        "plt.xlabel('Passenger Class')\n",
        "plt.ylabel('Count')\n",
        "\n",
        "plt.show()"
      ],
      "execution_count": 27,
      "outputs": [
        {
          "output_type": "display_data",
          "data": {
            "image/png": "[encoded data removed]",
            "text/plain": [
              "<Figure size 432x288 with 1 Axes>"
            ]
          },
          "metadata": {
            "tags": [],
            "needs_background": "light"
          }
        }
      ]
    },
    {
      "cell_type": "code",
      "metadata": {
        "id": "sXkE77rO4JXn",
        "outputId": "abc3b7a7-67be-40ed-fa2e-7bc7f8f7f95d",
        "colab": {
          "base_uri": "https://localhost:8080/",
          "height": 294
        }
      },
      "source": [
        "# Use hue to add another dimension to your visualizations.\n",
        "\n",
        "sns.countplot(x = 'class', hue = 'survived', data=train, palette='Blues', ec='black', linewidth=2)\n",
        "\n",
        "plt.legend(['Did Not Survive', 'Survived'])\n",
        "plt.title('How Did Class Affect Survival Chances?')\n",
        "\n",
        "plt.show()"
      ],
      "execution_count": 28,
      "outputs": [
        {
          "output_type": "display_data",
          "data": {
            "image/png": "[encoded data removed]",
            "text/plain": [
              "<Figure size 432x288 with 1 Axes>"
            ]
          },
          "metadata": {
            "tags": [],
            "needs_background": "light"
          }
        }
      ]
    },
    {
      "cell_type": "code",
      "metadata": {
        "id": "zx6GGbNIdw31",
        "outputId": "ab5ab1fb-0910-487d-9af4-2558e4ba2ab4",
        "colab": {
          "base_uri": "https://localhost:8080/",
          "height": 294
        }
      },
      "source": [
        "# Let's change class to sex.\n",
        "\n",
        "sns.countplot(x = 'sex', hue = 'survived', data=train, palette='Purples', ec='black', linewidth=2)\n",
        "\n",
        "plt.legend(['Did Not Survive', 'Survived'])\n",
        "plt.title('How Did Sex Affect Survival Chances?')\n",
        "\n",
        "plt.show()"
      ],
      "execution_count": 29,
      "outputs": [
        {
          "output_type": "display_data",
          "data": {
            "image/png": "[encoded data removed]",
            "text/plain": [
              "<Figure size 432x288 with 1 Axes>"
            ]
          },
          "metadata": {
            "tags": [],
            "needs_background": "light"
          }
        }
      ]
    },
    {
      "cell_type": "markdown",
      "metadata": {
        "id": "f1QQkdhG8ejS"
      },
      "source": [
        "___"
      ]
    },
    {
      "cell_type": "markdown",
      "metadata": {
        "id": "soYNbWuvdaR1"
      },
      "source": [
        "#### `sns.swarmplot()`\n",
        "\n",
        "Swarmplots to show Distribution of a Continuous Variable grouped by Categorical Variables.\n",
        "\n",
        "```python\n",
        "sns.swarmplot(x='categorical', y='continous', data=train , hue='categorical'  )\n",
        "```"
      ]
    },
    {
      "cell_type": "code",
      "metadata": {
        "id": "RjYFSYygda7U",
        "outputId": "7b9d226a-1128-4206-d34d-36ed3ed6caff",
        "colab": {
          "base_uri": "https://localhost:8080/",
          "height": 281
        }
      },
      "source": [
        "sns.swarmplot(x='sex', y='age', data=train , hue='survived'  )\n",
        "\n",
        "plt.title('How Do Age and Sex Relate to Survival?')\n",
        "plt.xlabel('')\n",
        "plt.show()"
      ],
      "execution_count": 31,
      "outputs": [
        {
          "output_type": "display_data",
          "data": {
            "image/png": "[encoded data removed]",
            "text/plain": [
              "<Figure size 432x288 with 1 Axes>"
            ]
          },
          "metadata": {
            "tags": [],
            "needs_background": "light"
          }
        }
      ]
    },
    {
      "cell_type": "markdown",
      "metadata": {
        "id": "zcJaxVBedbWY"
      },
      "source": [
        "___"
      ]
    },
    {
      "cell_type": "markdown",
      "metadata": {
        "id": "WJMLRTbH8ej7"
      },
      "source": [
        "## Takeaways from Exploration\n",
        "\n",
        "You might revisit exploration as well as prepare several times during a project. Remember, the process is not necessarily linear. Exploring my data informs me of relationships between variables and can help me decide what variables I might want to use in modeling.\n",
        "\n",
        "This was a quick trip through exploration today, but hopefully you get the idea of how helpful it is to visualize your data. I might also want to run statistical tests as a part of my EDA.\n",
        "\n",
        "**There's some pretty cool EDA code and explanation in [this article.](https://towardsdatascience.com/exploratory-data-analysis-for-linear-regression-classification-8a27da23debc) Check it out!**\n",
        "\n",
        "**Here are the official matplotlib [tutorials](https://matplotlib.org/3.1.1/tutorials/index.html#introductory)**"
      ]
    },
    {
      "cell_type": "markdown",
      "metadata": {
        "id": "EXln5dYk8ej9"
      },
      "source": [
        "___"
      ]
    },
    {
      "cell_type": "markdown",
      "metadata": {
        "id": "CkpVyovo8ekA"
      },
      "source": [
        "## Model"
      ]
    },
    {
      "cell_type": "markdown",
      "metadata": {
        "id": "hO9AS4JZ8ekA"
      },
      "source": [
        "I'm ready to build my first model; I'm going to build a simple MVP Logistic Regression Model and see if I can beat my baseline accuracy."
      ]
    },
    {
      "cell_type": "markdown",
      "metadata": {
        "id": "rxz7JrXhtQaN"
      },
      "source": [
        "**For this first iteration of modeling this dataset, I am going to choose only three independent variables as features to predict my target variable, survived.**"
      ]
    },
    {
      "cell_type": "markdown",
      "metadata": {
        "id": "MeaZQWNZ8ekB"
      },
      "source": [
        "### <font color=red>Decision Tree Classifier</font>"
      ]
    },
    {
      "cell_type": "markdown",
      "metadata": {
        "id": "5YL7XuZM8ekB"
      },
      "source": [
        "**The Big Picture** \n",
        "\n",
        "- Classification is a supervised machine learning process. That means we train on labeled data.\n",
        "- We use the training data to train the tree to find a decision boundary to use as a decision rule for future data\n",
        "- Decision trees are like playing \"20 Questions\" with your features used to predict the target. Each question is a \"Yes\" or a \"No\". That number of questions is the depth of your tree.\n",
        "- Given enough depth, decision trees are overfitting machines.\n",
        "\n",
        "**Pros** \n",
        "\n",
        "- Simple to understand\n",
        "- Simple to visualize\n",
        "- Simple to explain the output\n",
        "- Requires little data preparation\n",
        "- We don't need to encode our target variable\n",
        "- Perform well for a broad range of problems\n",
        "\n",
        "**Cons**\n",
        "\n",
        "- Can create complex trees that do not generalise well.\n",
        "- Can be unstable because small variations in the data might lead to overfitting."
      ]
    },
    {
      "cell_type": "markdown",
      "metadata": {
        "id": "0PtXTWvn8ekB"
      },
      "source": [
        "___"
      ]
    },
    {
      "cell_type": "markdown",
      "metadata": {
        "id": "IR5wjKRT8ekD"
      },
      "source": [
        "### Baseline \n",
        "\n",
        "**Predicting the most common case for everything.**\n",
        "\n",
        "62% of the passengers did not survive. So, if I predict the most common outcome of survived every time, my baseline prediction will be correct 62% of the time, or in other words, **my baseline accuracy is 62%.** If my model doesn't predict correctly more than 62% of the time, my model doesn't add value."
      ]
    },
    {
      "cell_type": "code",
      "metadata": {
        "id": "N8MdhGvT8ekD",
        "outputId": "4bae96ac-3e9a-4d97-9ea3-8259c0159b32",
        "colab": {
          "base_uri": "https://localhost:8080/",
          "height": 69
        }
      },
      "source": [
        "# I can \n",
        "\n",
        "train.survived.value_counts(normalize=True)"
      ],
      "execution_count": 32,
      "outputs": [
        {
          "output_type": "execute_result",
          "data": {
            "text/plain": [
              "0    0.616466\n",
              "1    0.383534\n",
              "Name: survived, dtype: float64"
            ]
          },
          "metadata": {
            "tags": []
          },
          "execution_count": 32
        }
      ]
    },
    {
      "cell_type": "markdown",
      "metadata": {
        "id": "T1WTEcNE8ekF"
      },
      "source": [
        "___"
      ]
    },
    {
      "cell_type": "markdown",
      "metadata": {
        "id": "vpF6vgtX8ekF"
      },
      "source": [
        "#### Define X and y"
      ]
    },
    {
      "cell_type": "code",
      "metadata": {
        "id": "yN_CTnA48ekF",
        "outputId": "9e57d436-79f7-40ba-dcf4-7789a56da731",
        "colab": {
          "base_uri": "https://localhost:8080/",
          "height": 80
        }
      },
      "source": [
        "# I will decide here what my X variables will be; my y is `survived`, my target.\n",
        "\n",
        "train.head(1)"
      ],
      "execution_count": 33,
      "outputs": [
        {
          "output_type": "execute_result",
          "data": {
            "text/html": [
              "<div>\n",
              "<style scoped>\n",
              "    .dataframe tbody tr th:only-of-type {\n",
              "        vertical-align: middle;\n",
              "    }\n",
              "\n",
              "    .dataframe tbody tr th {\n",
              "        vertical-align: top;\n",
              "    }\n",
              "\n",
              "    .dataframe thead th {\n",
              "        text-align: right;\n",
              "    }\n",
              "</style>\n",
              "<table border=\"1\" class=\"dataframe\">\n",
              "  <thead>\n",
              "    <tr style=\"text-align: right;\">\n",
              "      <th></th>\n",
              "      <th>survived</th>\n",
              "      <th>pclass</th>\n",
              "      <th>sex</th>\n",
              "      <th>age</th>\n",
              "      <th>sibsp</th>\n",
              "      <th>parch</th>\n",
              "      <th>fare</th>\n",
              "      <th>class</th>\n",
              "      <th>embark_town</th>\n",
              "      <th>alone</th>\n",
              "      <th>is_female</th>\n",
              "    </tr>\n",
              "  </thead>\n",
              "  <tbody>\n",
              "    <tr>\n",
              "      <th>583</th>\n",
              "      <td>0</td>\n",
              "      <td>1</td>\n",
              "      <td>male</td>\n",
              "      <td>36.0</td>\n",
              "      <td>0</td>\n",
              "      <td>0</td>\n",
              "      <td>40.125</td>\n",
              "      <td>First</td>\n",
              "      <td>Cherbourg</td>\n",
              "      <td>1</td>\n",
              "      <td>0</td>\n",
              "    </tr>\n",
              "  </tbody>\n",
              "</table>\n",
              "</div>"
            ],
            "text/plain": [
              "     survived  pclass   sex   age  ...  class  embark_town  alone is_female\n",
              "583         0       1  male  36.0  ...  First    Cherbourg      1         0\n",
              "\n",
              "[1 rows x 11 columns]"
            ]
          },
          "metadata": {
            "tags": []
          },
          "execution_count": 33
        }
      ]
    },
    {
      "cell_type": "code",
      "metadata": {
        "id": "MSJB03Gj8ekH"
      },
      "source": [
        "# I will drop any remaining categorical features I have left.\n",
        "\n",
        "X_train = train[['pclass', 'age', 'is_female']]\n",
        "y_train = train[['survived']]\n",
        "\n",
        "X_validate = validate[['pclass', 'age', 'is_female']]\n",
        "y_validate = validate[['survived']]\n",
        "\n",
        "X_test = test[['pclass', 'age', 'is_female']]\n",
        "y_test = test[['survived']]"
      ],
      "execution_count": 34,
      "outputs": []
    },
    {
      "cell_type": "code",
      "metadata": {
        "id": "O8k39gW88ekI",
        "outputId": "822d1b21-955b-40a9-c10b-f3cc11ee4a8d",
        "colab": {
          "base_uri": "https://localhost:8080/",
          "height": 80
        }
      },
      "source": [
        "# One last check of my data; all of my features need to have numeric values. I'm good.\n",
        "\n",
        "X_train.head(1)"
      ],
      "execution_count": 35,
      "outputs": [
        {
          "output_type": "execute_result",
          "data": {
            "text/html": [
              "<div>\n",
              "<style scoped>\n",
              "    .dataframe tbody tr th:only-of-type {\n",
              "        vertical-align: middle;\n",
              "    }\n",
              "\n",
              "    .dataframe tbody tr th {\n",
              "        vertical-align: top;\n",
              "    }\n",
              "\n",
              "    .dataframe thead th {\n",
              "        text-align: right;\n",
              "    }\n",
              "</style>\n",
              "<table border=\"1\" class=\"dataframe\">\n",
              "  <thead>\n",
              "    <tr style=\"text-align: right;\">\n",
              "      <th></th>\n",
              "      <th>pclass</th>\n",
              "      <th>age</th>\n",
              "      <th>is_female</th>\n",
              "    </tr>\n",
              "  </thead>\n",
              "  <tbody>\n",
              "    <tr>\n",
              "      <th>583</th>\n",
              "      <td>1</td>\n",
              "      <td>36.0</td>\n",
              "      <td>0</td>\n",
              "    </tr>\n",
              "  </tbody>\n",
              "</table>\n",
              "</div>"
            ],
            "text/plain": [
              "     pclass   age  is_female\n",
              "583       1  36.0          0"
            ]
          },
          "metadata": {
            "tags": []
          },
          "execution_count": 35
        }
      ]
    },
    {
      "cell_type": "code",
      "metadata": {
        "id": "m2RbbqRQ8ekJ",
        "outputId": "2979b0d9-4d87-4d3f-d09e-836865aa63e7",
        "colab": {
          "base_uri": "https://localhost:8080/",
          "height": 80
        }
      },
      "source": [
        "# This is my target variable, my label.\n",
        "\n",
        "y_train.head(1)"
      ],
      "execution_count": 36,
      "outputs": [
        {
          "output_type": "execute_result",
          "data": {
            "text/html": [
              "<div>\n",
              "<style scoped>\n",
              "    .dataframe tbody tr th:only-of-type {\n",
              "        vertical-align: middle;\n",
              "    }\n",
              "\n",
              "    .dataframe tbody tr th {\n",
              "        vertical-align: top;\n",
              "    }\n",
              "\n",
              "    .dataframe thead th {\n",
              "        text-align: right;\n",
              "    }\n",
              "</style>\n",
              "<table border=\"1\" class=\"dataframe\">\n",
              "  <thead>\n",
              "    <tr style=\"text-align: right;\">\n",
              "      <th></th>\n",
              "      <th>survived</th>\n",
              "    </tr>\n",
              "  </thead>\n",
              "  <tbody>\n",
              "    <tr>\n",
              "      <th>583</th>\n",
              "      <td>0</td>\n",
              "    </tr>\n",
              "  </tbody>\n",
              "</table>\n",
              "</div>"
            ],
            "text/plain": [
              "     survived\n",
              "583         0"
            ]
          },
          "metadata": {
            "tags": []
          },
          "execution_count": 36
        }
      ]
    },
    {
      "cell_type": "markdown",
      "metadata": {
        "id": "BAs1pBi28ekL"
      },
      "source": [
        "___"
      ]
    },
    {
      "cell_type": "markdown",
      "metadata": {
        "id": "troS49AI8ekL"
      },
      "source": [
        "### Create Decision Tree Model"
      ]
    },
    {
      "cell_type": "code",
      "metadata": {
        "id": "3x-C9F2j8ekL",
        "outputId": "2cade8ef-0bec-4f27-ea7f-2842bfa2c951",
        "colab": {
          "base_uri": "https://localhost:8080/",
          "height": 121
        }
      },
      "source": [
        "# Create the model\n",
        "\n",
        "clf = DecisionTreeClassifier(random_state=123)\n",
        "clf"
      ],
      "execution_count": 58,
      "outputs": [
        {
          "output_type": "execute_result",
          "data": {
            "text/plain": [
              "DecisionTreeClassifier(ccp_alpha=0.0, class_weight=None, criterion='gini',\n",
              "                       max_depth=None, max_features=None, max_leaf_nodes=None,\n",
              "                       min_impurity_decrease=0.0, min_impurity_split=None,\n",
              "                       min_samples_leaf=1, min_samples_split=2,\n",
              "                       min_weight_fraction_leaf=0.0, presort='deprecated',\n",
              "                       random_state=123, splitter='best')"
            ]
          },
          "metadata": {
            "tags": []
          },
          "execution_count": 58
        }
      ]
    },
    {
      "cell_type": "markdown",
      "metadata": {
        "id": "ACnlJBmN8ekM"
      },
      "source": [
        "### Fit or Train the Model"
      ]
    },
    {
      "cell_type": "code",
      "metadata": {
        "id": "x-JA0my88ekM",
        "outputId": "20c63473-6d01-4fbb-eaaa-fba941b3933a",
        "colab": {
          "base_uri": "https://localhost:8080/",
          "height": 121
        }
      },
      "source": [
        "# Fit the model\n",
        "\n",
        "clf.fit(X_train, y_train)"
      ],
      "execution_count": 59,
      "outputs": [
        {
          "output_type": "execute_result",
          "data": {
            "text/plain": [
              "DecisionTreeClassifier(ccp_alpha=0.0, class_weight=None, criterion='gini',\n",
              "                       max_depth=None, max_features=None, max_leaf_nodes=None,\n",
              "                       min_impurity_decrease=0.0, min_impurity_split=None,\n",
              "                       min_samples_leaf=1, min_samples_split=2,\n",
              "                       min_weight_fraction_leaf=0.0, presort='deprecated',\n",
              "                       random_state=123, splitter='best')"
            ]
          },
          "metadata": {
            "tags": []
          },
          "execution_count": 59
        }
      ]
    },
    {
      "cell_type": "markdown",
      "metadata": {
        "id": "z2Rd0zdOIM1R"
      },
      "source": [
        "**You just trained a machine learning model!**"
      ]
    },
    {
      "cell_type": "markdown",
      "metadata": {
        "id": "ORAP71Vr8ekP"
      },
      "source": [
        "<hr style=\"border-top: 10px groove darkviolet; margin-top: 1px; margin-bottom: 1px\"></hr>"
      ]
    },
    {
      "cell_type": "markdown",
      "metadata": {
        "id": "-cow8SsX8ekP"
      },
      "source": [
        "## Evaluate\n",
        "\n",
        "**Is my model better than my baseline prediction accuracy of 62%?**"
      ]
    },
    {
      "cell_type": "markdown",
      "metadata": {
        "id": "M6gjFHO1HvY-"
      },
      "source": [
        "### Use the Model on Train Dataset\n",
        "\n",
        "I can use my train dataset to see how accurate my model is at predicting the taget variable."
      ]
    },
    {
      "cell_type": "markdown",
      "metadata": {
        "id": "zjVIK0-Y8ekY"
      },
      "source": [
        "#### Accuracy Score on Train\n",
        "\n",
        "My model's accuracy at predicting passenger survival using class, age, and sex is 90%. It beats my baseline prediction, so my model has value."
      ]
    },
    {
      "cell_type": "code",
      "metadata": {
        "id": "3qj_QVu4iSnc",
        "outputId": "28ee6eaa-1bce-40b5-ab09-7bdd566d01bf",
        "colab": {
          "base_uri": "https://localhost:8080/",
          "height": 34
        }
      },
      "source": [
        "# Use the model to get accuracy score for train dataset\n",
        "\n",
        "clf.score(X_train, y_train)"
      ],
      "execution_count": 60,
      "outputs": [
        {
          "output_type": "execute_result",
          "data": {
            "text/plain": [
              "0.8955823293172691"
            ]
          },
          "metadata": {
            "tags": []
          },
          "execution_count": 60
        }
      ]
    },
    {
      "cell_type": "code",
      "metadata": {
        "id": "Q8jWvSa68ekY",
        "outputId": "17f15123-8566-4989-c3cc-2f0371aca258",
        "colab": {
          "base_uri": "https://localhost:8080/",
          "height": 34
        }
      },
      "source": [
        "# Format my accuracy score for readability.\n",
        "\n",
        "print(f'Accuracy of Decision Tree classifier on training set: {round(clf.score(X_train, y_train) * 100)}%')"
      ],
      "execution_count": 61,
      "outputs": [
        {
          "output_type": "stream",
          "text": [
            "Accuracy of Decision Tree classifier on training set: 90.0%\n"
          ],
          "name": "stdout"
        }
      ]
    },
    {
      "cell_type": "markdown",
      "metadata": {
        "id": "n1pUMrreDVhi"
      },
      "source": [
        "___"
      ]
    },
    {
      "cell_type": "markdown",
      "metadata": {
        "id": "2yhwGdYX8ekk"
      },
      "source": [
        "### Use the Model on Validate Dataset\n",
        "\n",
        "I can use my validate dataset to see how accurate my model is at predicting on unseen data."
      ]
    },
    {
      "cell_type": "markdown",
      "metadata": {
        "id": "s6w0w_DsGGz2"
      },
      "source": [
        "#### Accuracy Score on Validate\n",
        "\n",
        "My model's accuracy at predicting passenger survival on unseen data using class, age, and sex is 76%. This still beats my baseline, but the large drop in accuracy means that my decision tree model is overfit to the train data. I can adjust the parameters to see if I can get the accuracy on train and validate to be closer."
      ]
    },
    {
      "cell_type": "code",
      "metadata": {
        "id": "bDSfuAOIipr6",
        "outputId": "8a553fc8-3348-402b-a58a-b80de9c4c73a",
        "colab": {
          "base_uri": "https://localhost:8080/",
          "height": 34
        }
      },
      "source": [
        "# Use my model to get accuracy score for validate dataset.\n",
        "\n",
        "clf.score(X_validate, y_validate)"
      ],
      "execution_count": 62,
      "outputs": [
        {
          "output_type": "execute_result",
          "data": {
            "text/plain": [
              "0.7616822429906542"
            ]
          },
          "metadata": {
            "tags": []
          },
          "execution_count": 62
        }
      ]
    },
    {
      "cell_type": "code",
      "metadata": {
        "id": "4VRECnoBGTaR",
        "outputId": "711e8bdd-01f8-4f68-859e-ef3ce7ae9e97",
        "colab": {
          "base_uri": "https://localhost:8080/",
          "height": 34
        }
      },
      "source": [
        "# Format my accuracy score for readability.\n",
        "\n",
        "print(f'Accuracy of Decision Tree classifier on validate set: {round(clf.score(X_validate, y_validate) * 100)}%')"
      ],
      "execution_count": 63,
      "outputs": [
        {
          "output_type": "stream",
          "text": [
            "Accuracy of Decision Tree classifier on validate set: 76.0%\n"
          ],
          "name": "stdout"
        }
      ]
    },
    {
      "cell_type": "markdown",
      "metadata": {
        "id": "q0mob6Tq8ekm"
      },
      "source": [
        "___"
      ]
    },
    {
      "cell_type": "markdown",
      "metadata": {
        "id": "H1F7Kkyc8ekn"
      },
      "source": [
        "### Takeaways from MVP Decision Tree Model Evaluation\n",
        "\n",
        "- My accuracy drops from 90% on my train dataset to 76% on my validate dataset.\n",
        "\n",
        "- I would now go back and probably try to adjust some of the parameters of my Decision Tree model to see if I can beat this first model, or I could try another type of classification model.\n",
        "\n",
        "- I'm not going to test this model until I know if I can beat it with using one of the methods I described above. You will only use your test dataset one time; you will use it on your BEST model."
      ]
    },
    {
      "cell_type": "markdown",
      "metadata": {
        "id": "68T7_FVyV-Ud"
      },
      "source": [
        "___"
      ]
    },
    {
      "cell_type": "markdown",
      "metadata": {
        "id": "sp1izyLxVWIX"
      },
      "source": [
        "# Try it on new data!\n",
        "\n",
        "I'm linking a fresh notebook with the code to load the Iris dataset [here](https://colab.research.google.com/drive/1EX6EjkVw7BEo85hQIwbv7TPqsr-SuGG5?usp=sharing), so you can try to run through the pipeline yourself. This dataset is a little simpler than the Titanic dataset, as well, so give it a try! Use the tools and this notebook to guide you."
      ]
    }
  ]
}